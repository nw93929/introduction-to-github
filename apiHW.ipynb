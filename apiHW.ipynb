{
 "cells": [
  {
   "cell_type": "markdown",
   "id": "6da20522",
   "metadata": {
    "colab_type": "text",
    "id": "view-in-github"
   },
   "source": [
    "<a href=\"https://colab.research.google.com/github/fourfeatherz/DS2002F24/blob/main/Labs/Universities_and_Stock_API_Workshop.ipynb\" target=\"_parent\"><img src=\"https://colab.research.google.com/assets/colab-badge.svg\" alt=\"Open In Colab\"/></a>"
   ]
  },
  {
   "cell_type": "markdown",
   "id": "CDPNEdDF04MJ",
   "metadata": {
    "id": "CDPNEdDF04MJ"
   },
   "source": [
    "### Stock Data Functions"
   ]
  },
  {
   "cell_type": "code",
   "execution_count": 100,
   "id": "pY6qqMVA04MJ",
   "metadata": {
    "colab": {
     "base_uri": "https://localhost:8080/"
    },
    "id": "pY6qqMVA04MJ",
    "outputId": "fe553369-4a1e-447d-9a89-41eaa4284a07",
    "scrolled": true
   },
   "outputs": [],
   "source": [
    "import requests\n",
    "import json\n",
    "import pandas as pd\n",
    "import matplotlib.pyplot as p\n",
    "\n",
    "apikey=\"personal_key\"\n",
    "\n",
    "def get_stock_data(ticker):\n",
    "    url = \"https://yfapi.net/v6/finance/quote\"\n",
    "\n",
    "    querystring = {\"symbols\":ticker}\n",
    "\n",
    "    headers = {\n",
    "        'x-api-key': apikey\n",
    "        }\n",
    "\n",
    "    response = requests.request(\"GET\", url, headers=headers, params=querystring)\n",
    "    if response.status_code == 200:\n",
    "        stock_json = response.json()\n",
    "        outlist={\"Ticker Name\":(stock_json['quoteResponse']['result'][0][\"symbol\"]), \"Full Name\":(stock_json['quoteResponse']['result'][0][\"longName\"]), \"Market Price\":(stock_json['quoteResponse']['result'][0][\"regularMarketPrice\"]), \"52 Week High\":(stock_json['quoteResponse']['result'][0][\"fiftyTwoWeekHigh\"]), \"52 Week Low\":(stock_json['quoteResponse']['result'][0][\"fiftyTwoWeekLow\"])}\n",
    "        return outlist\n",
    "    else:\n",
    "        return str(f\"Failed to retrieve data: {response.status_code}\")\n",
    "\n",
    "\n",
    "def get_target_mean_price(ticker):\n",
    "    url = f\"https://yfapi.net/v11/finance/quoteSummary/{ticker}?lang=en&region=US&modules=financialData\"\n",
    "\n",
    "    querystring = {\"symbols\":ticker}\n",
    "\n",
    "    headers = {\n",
    "        'x-api-key': apikey\n",
    "        }\n",
    "\n",
    "    response = requests.request(\"GET\", url, headers=headers, params=querystring)\n",
    "    if response.status_code == 200:\n",
    "        stock_json = response.json()\n",
    "        temp = stock_json['quoteSummary']['result'][0]['financialData']['targetMeanPrice']\n",
    "        if len(temp) != 0:\n",
    "            return {\"Target Mean Price\":temp['raw']}\n",
    "        else:\n",
    "            return {\"Target Mean Price\": \"There is no information on target mean price available.\"}\n",
    "    else:\n",
    "        return str(f\"Failed to retrieve data: {response.status_code}\")\n",
    "                   \n",
    "def get_trending(ticker):\n",
    "    url = f\"https://yfapi.net/v1/finance/trending/US\"\n",
    "\n",
    "    querystring = {\"symbols\":ticker}\n",
    "\n",
    "    headers = {\n",
    "        'x-api-key': apikey\n",
    "        }\n",
    "\n",
    "    response = requests.request(\"GET\", url, headers=headers, params=querystring)\n",
    "    if response.status_code == 200:\n",
    "        stock_json = response.json()\n",
    "        if stock_json['finance']['result'][0]['count'] >= 5:\n",
    "            outlist = stock_json['finance']['result'][0]['quotes'][:5]\n",
    "            symbols = []\n",
    "            for dict in outlist:\n",
    "                symbols.append(dict['symbol'])\n",
    "            outlist = ' '.join(symbols)\n",
    "        elif stock_json['finance']['result'][0]['count'] > 0:\n",
    "            num = stock_json['finance']['result'][0]['count']\n",
    "            outlist = stock_json['finance']['result'][0]['quotes'][:num]\n",
    "            symbols = []\n",
    "            for dict in outlist:\n",
    "                symbols.append(dict['symbol'])\n",
    "            outlist = ' '.join(symbols)\n",
    "        else:\n",
    "            return {\"Trending Stocks\":\"There is no stocks currently trending.\"}\n",
    "        outlist = {\"Trending Stocks\":outlist}\n",
    "        return outlist\n",
    "    else:\n",
    "        return str(f\"Failed to retrieve data: {response.status_code}\")\n",
    "    \n",
    "def stock_request(x):\n",
    "    stock=input(\"Please provide the ticker of the stock you want information on: \")\n",
    "    combined_data = get_stock_data(stock)\n",
    "    combined_data['Target Mean Price']=get_target_mean_price(stock)['Target Mean Price']\n",
    "    combined_data['Trending Stocks']=get_trending(stock)['Trending Stocks']\n",
    "    return combined_data"
   ]
  },
  {
   "cell_type": "markdown",
   "id": "LpvYuFhm04MK",
   "metadata": {
    "id": "LpvYuFhm04MK"
   },
   "source": [
    "### Convert to DataFrame and CSV file"
   ]
  },
  {
   "cell_type": "code",
   "execution_count": 101,
   "id": "6TXNwd7L04MK",
   "metadata": {
    "colab": {
     "base_uri": "https://localhost:8080/",
     "height": 1450
    },
    "id": "6TXNwd7L04MK",
    "outputId": "d3f0f07b-1da4-4a65-cd22-2827eb575c2e",
    "scrolled": true
   },
   "outputs": [
    {
     "name": "stdout",
     "output_type": "stream",
     "text": [
      "Please provide the ticker of the stock you want information on: AAPL\n",
      "[{'Ticker Name': 'AAPL', 'Full Name': 'Apple Inc.', 'Market Price': 227.725, '52 Week High': 237.23, '52 Week Low': 164.08, 'Target Mean Price': 240.58, 'Trending Stocks': '^N225 NQ=F ES=F AMSC BTC-USD'}]\n",
      "Do you wish to request more stock information? Type 1 for yes, 0 for no: 1\n",
      "Please provide the ticker of the stock you want information on: NEGG\n",
      "[{'Ticker Name': 'AAPL', 'Full Name': 'Apple Inc.', 'Market Price': 227.725, '52 Week High': 237.23, '52 Week Low': 164.08, 'Target Mean Price': 240.58, 'Trending Stocks': '^N225 NQ=F ES=F AMSC BTC-USD'}, {'Ticker Name': 'NEGG', 'Full Name': 'Newegg Commerce, Inc.', 'Market Price': 0.7568, '52 Week High': 2.15, '52 Week Low': 0.52, 'Target Mean Price': 'There is no information on target mean price available.', 'Trending Stocks': '^N225 NQ=F ES=F AMSC BTC-USD'}]\n",
      "Do you wish to request more stock information? Type 1 for yes, 0 for no: 1\n",
      "Please provide the ticker of the stock you want information on: BKR\n",
      "[{'Ticker Name': 'AAPL', 'Full Name': 'Apple Inc.', 'Market Price': 227.725, '52 Week High': 237.23, '52 Week Low': 164.08, 'Target Mean Price': 240.58, 'Trending Stocks': '^N225 NQ=F ES=F AMSC BTC-USD'}, {'Ticker Name': 'NEGG', 'Full Name': 'Newegg Commerce, Inc.', 'Market Price': 0.7568, '52 Week High': 2.15, '52 Week Low': 0.52, 'Target Mean Price': 'There is no information on target mean price available.', 'Trending Stocks': '^N225 NQ=F ES=F AMSC BTC-USD'}, {'Ticker Name': 'BKR', 'Full Name': 'Baker Hughes Company', 'Market Price': 36.2, '52 Week High': 39.05, '52 Week Low': 28.32, 'Target Mean Price': 43.01, 'Trending Stocks': '^N225 NQ=F ES=F AMSC BTC-USD'}]\n",
      "Do you wish to request more stock information? Type 1 for yes, 0 for no: 0\n"
     ]
    },
    {
     "data": {
      "text/html": [
       "<div>\n",
       "<style scoped>\n",
       "    .dataframe tbody tr th:only-of-type {\n",
       "        vertical-align: middle;\n",
       "    }\n",
       "\n",
       "    .dataframe tbody tr th {\n",
       "        vertical-align: top;\n",
       "    }\n",
       "\n",
       "    .dataframe thead th {\n",
       "        text-align: right;\n",
       "    }\n",
       "</style>\n",
       "<table border=\"1\" class=\"dataframe\">\n",
       "  <thead>\n",
       "    <tr style=\"text-align: right;\">\n",
       "      <th></th>\n",
       "      <th>Ticker Name</th>\n",
       "      <th>Full Name</th>\n",
       "      <th>Market Price</th>\n",
       "      <th>52 Week High</th>\n",
       "      <th>52 Week Low</th>\n",
       "      <th>Target Mean Price</th>\n",
       "      <th>Trending Stocks</th>\n",
       "    </tr>\n",
       "  </thead>\n",
       "  <tbody>\n",
       "    <tr>\n",
       "      <th>0</th>\n",
       "      <td>AAPL</td>\n",
       "      <td>Apple Inc.</td>\n",
       "      <td>227.7250</td>\n",
       "      <td>237.23</td>\n",
       "      <td>164.08</td>\n",
       "      <td>240.58</td>\n",
       "      <td>^N225 NQ=F ES=F AMSC BTC-USD</td>\n",
       "    </tr>\n",
       "    <tr>\n",
       "      <th>1</th>\n",
       "      <td>NEGG</td>\n",
       "      <td>Newegg Commerce, Inc.</td>\n",
       "      <td>0.7568</td>\n",
       "      <td>2.15</td>\n",
       "      <td>0.52</td>\n",
       "      <td>There is no information on target mean price a...</td>\n",
       "      <td>^N225 NQ=F ES=F AMSC BTC-USD</td>\n",
       "    </tr>\n",
       "    <tr>\n",
       "      <th>2</th>\n",
       "      <td>BKR</td>\n",
       "      <td>Baker Hughes Company</td>\n",
       "      <td>36.2000</td>\n",
       "      <td>39.05</td>\n",
       "      <td>28.32</td>\n",
       "      <td>43.01</td>\n",
       "      <td>^N225 NQ=F ES=F AMSC BTC-USD</td>\n",
       "    </tr>\n",
       "  </tbody>\n",
       "</table>\n",
       "</div>"
      ],
      "text/plain": [
       "  Ticker Name              Full Name  Market Price  52 Week High  52 Week Low  \\\n",
       "0        AAPL             Apple Inc.      227.7250        237.23       164.08   \n",
       "1        NEGG  Newegg Commerce, Inc.        0.7568          2.15         0.52   \n",
       "2         BKR   Baker Hughes Company       36.2000         39.05        28.32   \n",
       "\n",
       "                                   Target Mean Price  \\\n",
       "0                                             240.58   \n",
       "1  There is no information on target mean price a...   \n",
       "2                                              43.01   \n",
       "\n",
       "                Trending Stocks  \n",
       "0  ^N225 NQ=F ES=F AMSC BTC-USD  \n",
       "1  ^N225 NQ=F ES=F AMSC BTC-USD  \n",
       "2  ^N225 NQ=F ES=F AMSC BTC-USD  "
      ]
     },
     "execution_count": 101,
     "metadata": {},
     "output_type": "execute_result"
    }
   ],
   "source": [
    "final_list=[]\n",
    "cont = 1\n",
    "while cont == 1:\n",
    "    final_list.append(stock_request(\"hi\"))\n",
    "    print(final_list)\n",
    "    cont = int(input(\"Do you wish to request more stock information? Type 1 for yes, 0 for no: \"))\n",
    "\n",
    "df = pd.DataFrame(final_list)\n",
    "df.to_csv(f\"aggregated_stock_data.csv\", index=False)\n",
    "df"
   ]
  },
  {
   "cell_type": "code",
   "execution_count": null,
   "id": "a0740c98",
   "metadata": {},
   "outputs": [],
   "source": []
  },
  {
   "cell_type": "code",
   "execution_count": null,
   "id": "e13570b0",
   "metadata": {},
   "outputs": [],
   "source": []
  }
 ],
 "metadata": {
  "colab": {
   "include_colab_link": true,
   "provenance": []
  },
  "kernelspec": {
   "display_name": "Python 3 (ipykernel)",
   "language": "python",
   "name": "python3"
  },
  "language_info": {
   "codemirror_mode": {
    "name": "ipython",
    "version": 3
   },
   "file_extension": ".py",
   "mimetype": "text/x-python",
   "name": "python",
   "nbconvert_exporter": "python",
   "pygments_lexer": "ipython3",
   "version": "3.11.4"
  }
 },
 "nbformat": 4,
 "nbformat_minor": 5
}
