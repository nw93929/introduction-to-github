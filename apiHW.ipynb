{
 "cells": [
  {
   "cell_type": "markdown",
   "id": "6da20522",
   "metadata": {
    "colab_type": "text",
    "id": "view-in-github"
   },
   "source": [
    "<a href=\"https://colab.research.google.com/github/fourfeatherz/DS2002F24/blob/main/Labs/Universities_and_Stock_API_Workshop.ipynb\" target=\"_parent\"><img src=\"https://colab.research.google.com/assets/colab-badge.svg\" alt=\"Open In Colab\"/></a>"
   ]
  },
  {
   "cell_type": "markdown",
   "id": "CDPNEdDF04MJ",
   "metadata": {
    "id": "CDPNEdDF04MJ"
   },
   "source": [
    "### Stock Data Functions"
   ]
  },
  {
   "cell_type": "code",
   "execution_count": 77,
   "id": "pY6qqMVA04MJ",
   "metadata": {
    "colab": {
     "base_uri": "https://localhost:8080/"
    },
    "id": "pY6qqMVA04MJ",
    "outputId": "fe553369-4a1e-447d-9a89-41eaa4284a07",
    "scrolled": true
   },
   "outputs": [
    {
     "name": "stdout",
     "output_type": "stream",
     "text": [
      "Please provide the ticker of the stock you want information on: AAPL\n"
     ]
    },
    {
     "data": {
      "text/plain": [
       "{'Ticker Name': ['AAPL'],\n",
       " 'Full Name': ['Apple Inc.'],\n",
       " 'Market Price': [227.725],\n",
       " '52 Week High': [237.23],\n",
       " '52 Week Low': [164.08],\n",
       " 'Target Mean Price': [240.58],\n",
       " 'Trending Stocks': ['NQ=F ES=F YM=F AMSC GC=F']}"
      ]
     },
     "execution_count": 77,
     "metadata": {},
     "output_type": "execute_result"
    }
   ],
   "source": [
    "import requests\n",
    "import json\n",
    "import pandas as pd\n",
    "import matplotlib.pyplot as plt\n",
    "\n",
    "stock=input(\"Please provide the ticker of the stock you want information on: \")\n",
    "\n",
    "apikey=\"personal_key\"\n",
    "\n",
    "def get_stock_data(ticker):\n",
    "    url = \"https://yfapi.net/v6/finance/quote\"\n",
    "\n",
    "    querystring = {\"symbols\":ticker}\n",
    "\n",
    "    headers = {\n",
    "        'x-api-key': apikey\n",
    "        }\n",
    "\n",
    "    response = requests.request(\"GET\", url, headers=headers, params=querystring)\n",
    "    if response.status_code == 200:\n",
    "        stock_json = response.json()\n",
    "        outlist={\"Ticker Name\":[(stock_json['quoteResponse']['result'][0][\"symbol\"])], \"Full Name\":[(stock_json['quoteResponse']['result'][0][\"longName\"])], \"Market Price\":[(stock_json['quoteResponse']['result'][0][\"regularMarketPrice\"])], \"52 Week High\":[(stock_json['quoteResponse']['result'][0][\"fiftyTwoWeekHigh\"])], \"52 Week Low\":[(stock_json['quoteResponse']['result'][0][\"fiftyTwoWeekLow\"])]}\n",
    "        return outlist\n",
    "    else:\n",
    "        return str(f\"Failed to retrieve data: {response.status_code}\")\n",
    "\n",
    "\n",
    "def get_target_mean_price(ticker):\n",
    "    url = f\"https://yfapi.net/v11/finance/quoteSummary/{ticker}?lang=en&region=US&modules=financialData\"\n",
    "\n",
    "    querystring = {\"symbols\":ticker}\n",
    "\n",
    "    headers = {\n",
    "        'x-api-key': apikey\n",
    "        }\n",
    "\n",
    "    response = requests.request(\"GET\", url, headers=headers, params=querystring)\n",
    "    if response.status_code == 200:\n",
    "        stock_json = response.json()\n",
    "        temp = stock_json['quoteSummary']['result'][0]['financialData']['targetMeanPrice']\n",
    "        if len(temp) != 0:\n",
    "            return {\"Target Mean Price\":[temp['raw']]}\n",
    "        else:\n",
    "            return \"There is no information on target mean price available.\"\n",
    "    else:\n",
    "        return str(f\"Failed to retrieve data: {response.status_code}\")\n",
    "                   \n",
    "def get_trending(ticker):\n",
    "    url = f\"https://yfapi.net/v1/finance/trending/US\"\n",
    "\n",
    "    querystring = {\"symbols\":ticker}\n",
    "\n",
    "    headers = {\n",
    "        'x-api-key': apikey\n",
    "        }\n",
    "\n",
    "    response = requests.request(\"GET\", url, headers=headers, params=querystring)\n",
    "    if response.status_code == 200:\n",
    "        stock_json = response.json()\n",
    "        if stock_json['finance']['result'][0]['count'] >= 5:\n",
    "            outlist = stock_json['finance']['result'][0]['quotes'][:5]\n",
    "            symbols = []\n",
    "            for dict in outlist:\n",
    "                symbols.append(dict['symbol'])\n",
    "            outlist = [' '.join(symbols)] \n",
    "        elif stock_json['finance']['result'][0]['count'] > 0:\n",
    "            num = stock_json['finance']['result'][0]['count']\n",
    "            outlist = stock_json['finance']['result'][0]['quotes'][:num]\n",
    "            symbols = []\n",
    "            for dict in outlist:\n",
    "                symbols.append(dict['symbol'])\n",
    "            outlist = [' '.join(symbols)]\n",
    "        else:\n",
    "            return \"There is no stocks currently trending.\"\n",
    "        outlist = {\"Trending Stocks\":outlist}\n",
    "        return outlist\n",
    "    else:\n",
    "        return str(f\"Failed to retrieve data: {response.status_code}\")\n",
    "\n",
    "combined_data = get_stock_data(stock)\n",
    "combined_data['Target Mean Price']=get_target_mean_price(stock)['Target Mean Price']\n",
    "combined_data['Trending Stocks']=get_trending(stock)['Trending Stocks']\n",
    "combined_data"
   ]
  },
  {
   "cell_type": "markdown",
   "id": "LpvYuFhm04MK",
   "metadata": {
    "id": "LpvYuFhm04MK"
   },
   "source": [
    "### Convert to DataFrame and CSV file"
   ]
  },
  {
   "cell_type": "code",
   "execution_count": 83,
   "id": "6TXNwd7L04MK",
   "metadata": {
    "colab": {
     "base_uri": "https://localhost:8080/",
     "height": 1450
    },
    "id": "6TXNwd7L04MK",
    "outputId": "d3f0f07b-1da4-4a65-cd22-2827eb575c2e",
    "scrolled": true
   },
   "outputs": [
    {
     "data": {
      "text/html": [
       "<div>\n",
       "<style scoped>\n",
       "    .dataframe tbody tr th:only-of-type {\n",
       "        vertical-align: middle;\n",
       "    }\n",
       "\n",
       "    .dataframe tbody tr th {\n",
       "        vertical-align: top;\n",
       "    }\n",
       "\n",
       "    .dataframe thead th {\n",
       "        text-align: right;\n",
       "    }\n",
       "</style>\n",
       "<table border=\"1\" class=\"dataframe\">\n",
       "  <thead>\n",
       "    <tr style=\"text-align: right;\">\n",
       "      <th></th>\n",
       "      <th>Ticker Name</th>\n",
       "      <th>Full Name</th>\n",
       "      <th>Market Price</th>\n",
       "      <th>52 Week High</th>\n",
       "      <th>52 Week Low</th>\n",
       "      <th>Target Mean Price</th>\n",
       "      <th>Trending Stocks</th>\n",
       "    </tr>\n",
       "  </thead>\n",
       "  <tbody>\n",
       "    <tr>\n",
       "      <th>0</th>\n",
       "      <td>AAPL</td>\n",
       "      <td>Apple Inc.</td>\n",
       "      <td>227.725</td>\n",
       "      <td>237.23</td>\n",
       "      <td>164.08</td>\n",
       "      <td>240.58</td>\n",
       "      <td>NQ=F ES=F YM=F AMSC GC=F</td>\n",
       "    </tr>\n",
       "  </tbody>\n",
       "</table>\n",
       "</div>"
      ],
      "text/plain": [
       "  Ticker Name   Full Name  Market Price  52 Week High  52 Week Low  \\\n",
       "0        AAPL  Apple Inc.       227.725        237.23       164.08   \n",
       "\n",
       "   Target Mean Price           Trending Stocks  \n",
       "0             240.58  NQ=F ES=F YM=F AMSC GC=F  "
      ]
     },
     "execution_count": 83,
     "metadata": {},
     "output_type": "execute_result"
    }
   ],
   "source": [
    "df = pd.DataFrame(combined_data)\n",
    "df.to_csv(f\"{stock}_stock_data.csv\", index=False)\n",
    "df"
   ]
  }
 ],
 "metadata": {
  "colab": {
   "include_colab_link": true,
   "provenance": []
  },
  "kernelspec": {
   "display_name": "Python 3 (ipykernel)",
   "language": "python",
   "name": "python3"
  },
  "language_info": {
   "codemirror_mode": {
    "name": "ipython",
    "version": 3
   },
   "file_extension": ".py",
   "mimetype": "text/x-python",
   "name": "python",
   "nbconvert_exporter": "python",
   "pygments_lexer": "ipython3",
   "version": "3.11.4"
  }
 },
 "nbformat": 4,
 "nbformat_minor": 5
}
